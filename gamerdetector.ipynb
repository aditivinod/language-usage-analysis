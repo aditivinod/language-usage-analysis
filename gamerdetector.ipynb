{
 "cells": [
  {
   "cell_type": "code",
   "execution_count": 1,
   "metadata": {},
   "outputs": [],
   "source": [
    "# imports\n",
    "import praw \n",
    "from api_keys import keys\n",
    "from collections import Counter\n",
    "import pandas as pd\n",
    "\n",
    "from string import punctuation\n",
    "\n",
    "# reddit\n",
    "reddit = praw.Reddit(\n",
    "    client_id = keys[\"CLIENT_ID\"],\n",
    "    client_secret = keys[\"CLIENT_SECRET\"],\n",
    "    password = keys[\"PASSWORD\"],\n",
    "    user_agent = keys[\"USERAGENT\"],\n",
    "    username = keys[\"USERNAME\"],\n",
    ")"
   ]
  },
  {
   "cell_type": "code",
   "execution_count": 2,
   "metadata": {},
   "outputs": [],
   "source": [
    "# collect gaming subreddit data\n",
    "\n",
    "gaming_subreddits = [reddit.subreddit(\"gaming\"), reddit.subreddit(\"leagueoflegends\"), \\\n",
    "    reddit.subreddit(\"pokemon\"), reddit.subreddit(\"minecraft\"), reddit.subreddit(\"games\")]\n",
    "\n",
    "#subreddit = reddit.subreddit(\"gaming\")\n",
    "gaming = {}\n",
    "words = \"\"\n",
    "\n",
    "for subreddit in gaming_subreddits:\n",
    "    for submission in subreddit.hot(limit=10):\n",
    "        words += submission.selftext.lower().translate(str.maketrans('', '', punctuation))\n",
    "    submission.comments.replace_more(limit=None)\n",
    "    for comment in submission.comments.list():\n",
    "        words += comment.body.lower().translate(str.maketrans('', '', punctuation))\n",
    "words = words.split()\n",
    "\n",
    "#for submission in subreddit.hot(limit=1000):\n",
    "#    words += submission.selftext.lower().translate(str.maketrans('', '', punctuation))\n",
    "#words = words.split()\n",
    "\n",
    "#for word in words:\n",
    "#    if word in gaming:\n",
    "#        gaming[word] += 1\n",
    "#    else:\n",
    "#        gaming[word] = 1\n",
    "\n",
    "\n",
    "#print(words)\n",
    "\n",
    "#print(gaming)\n",
    "\n",
    "\n",
    "gaming = (Counter(words))\n",
    "#gaming_sorted = sorted(gaming.items(), key=lambda item: item[1])"
   ]
  },
  {
   "cell_type": "code",
   "execution_count": 5,
   "metadata": {},
   "outputs": [],
   "source": [
    "# collect normal subreddit data\n",
    "\n",
    "normal_subreddits = [reddit.subreddit(\"announcements\")]\n",
    "\n",
    "#subreddit = reddit.subreddit(\"gaming\")\n",
    "normal = {}\n",
    "words = \"\"\n",
    "\n",
    "for subreddit in normal_subreddits:\n",
    "    for submission in subreddit.hot(limit=10):\n",
    "        words += submission.selftext.lower().translate(str.maketrans('', '', punctuation))\n",
    "    submission.comments.replace_more(limit=None)\n",
    "    for comment in submission.comments.list():\n",
    "        words += comment.body.lower().translate(str.maketrans('', '', punctuation))\n",
    "words = words.split()\n",
    "\n",
    "normal = (Counter(words))"
   ]
  },
  {
   "cell_type": "code",
   "execution_count": 3,
   "metadata": {},
   "outputs": [
    {
     "ename": "NameError",
     "evalue": "name 'normal' is not defined",
     "output_type": "error",
     "traceback": [
      "\u001b[0;31m---------------------------------------------------------------------------\u001b[0m",
      "\u001b[0;31mNameError\u001b[0m                                 Traceback (most recent call last)",
      "\u001b[0;32m/tmp/ipykernel_653/1717468559.py\u001b[0m in \u001b[0;36m<module>\u001b[0;34m\u001b[0m\n\u001b[1;32m      7\u001b[0m \u001b[0;31m#pd.display(df)#\u001b[0m\u001b[0;34m\u001b[0m\u001b[0;34m\u001b[0m\u001b[0m\n\u001b[1;32m      8\u001b[0m \u001b[0;31m#print(gaming)\u001b[0m\u001b[0;34m\u001b[0m\u001b[0;34m\u001b[0m\u001b[0m\n\u001b[0;32m----> 9\u001b[0;31m \u001b[0mprint\u001b[0m\u001b[0;34m(\u001b[0m\u001b[0mnormal\u001b[0m\u001b[0;34m)\u001b[0m\u001b[0;34m\u001b[0m\u001b[0;34m\u001b[0m\u001b[0m\n\u001b[0m",
      "\u001b[0;31mNameError\u001b[0m: name 'normal' is not defined"
     ]
    }
   ],
   "source": [
    "# Display gaming subreddits data\n",
    "pd.set_option('display.max_rows', 500)\n",
    "\n",
    "df = pd.DataFrame.from_dict(gaming, orient='index')\n",
    "df_list = df.columns.values.tolist()\n",
    "df = df.sort_values(by=df_list[:2], ascending = False)\n",
    "#pd.display(df)#\n",
    "#print(gaming)\n",
    "print(normal)"
   ]
  }
 ],
 "metadata": {
  "interpreter": {
   "hash": "4d59e5a3676c8f6014a0bf8a6d620411eb6abbd5536b79329eb052434920fc55"
  },
  "kernelspec": {
   "display_name": "Python 3.9.7 ('base')",
   "language": "python",
   "name": "python3"
  },
  "language_info": {
   "codemirror_mode": {
    "name": "ipython",
    "version": 3
   },
   "file_extension": ".py",
   "mimetype": "text/x-python",
   "name": "python",
   "nbconvert_exporter": "python",
   "pygments_lexer": "ipython3",
   "version": "3.9.7"
  },
  "orig_nbformat": 4
 },
 "nbformat": 4,
 "nbformat_minor": 2
}

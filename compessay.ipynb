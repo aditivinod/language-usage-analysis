{
 "cells": [
  {
   "cell_type": "markdown",
   "metadata": {},
   "source": [
    "# Determining Language Differences Between Interest Groups\n",
    "**Aditi Vinod & Luke Witten**"
   ]
  },
  {
   "cell_type": "markdown",
   "metadata": {},
   "source": [
    "## Introduction: []\n",
    "\n",
    "### Primary Questions\n",
    "What terms are unique to internet sub-communities, like gamers? \\\n",
    "Based on social media content or messages sent, can an individual be associated with a specific internet sub-community?\n",
    "\n",
    "### Background Information\n",
    "Due to the ease of access to the internent, people have been able to find and interact with niche groups that share similar interests to themselves online. Similar to how dialects and accents have formed based on regions in the past, various new words and phrases, exclusive to individual communities, have popped up in sectors of the internet. \n",
    "\n",
    "One example of a popular community with a large online presence is gamers. Especially following the recent 2020 COVID-19 pandemic, there has been a significant increase in the past few years in the number of individuals who spend time playing games - both individually and in teams - online. Through content creators (on Twitch, YouTube, TikTok, etc.), online forums, and memes, the English-speaking gaming community likely has one of the most developed subsets of the language to exist; there are a significant number of terms, like \"pog,\" \"gg,\" and \"smurf\" that have either no significance or mean something different to non-gaming members of society. \n",
    "\n",
    "Being able to identify these differences in language helps []\n",
    "\n",
    "In order to create a list of \"gamer words,\" or terms that are unique to gamers online, and determine whether an individual is a gamer, several steps must be taken: \\\n",
    "1-Collect data that reflects usage of langauge online in \"gamer\" communities and \"normally\" \\\n",
    "2-Compare the two data sets in order to create a list of \"gamer words\" that did not include unaviodable common words in the English language \\\n",
    "3-Collect data for individual users representing their usage of language \\\n",
    "4-Use the \"gamer words\" list and the individuals' usage of said gamer words to determine whether they are a gamer or not\n",
    "\n",
    "\n",
    "\n",
    "1-What is the question you are trying to answer or the story that you are trying you tell?\n",
    "2-Why is this question or story important?\n",
    "3-What were the main steps your project made towards answering the question or telling the story?\n",
    "\n",
    "### Prerequisite Code\n",
    "The following cell ensures that the necessary functions are imported into the document and that the notebook uses the latest version of all code in the library:"
   ]
  },
  {
   "cell_type": "code",
   "execution_count": 1,
   "metadata": {},
   "outputs": [],
   "source": [
    "%load_ext autoreload\n",
    "%autoreload 2\n",
    "\n",
    "import pandas as pd\n",
    "import numpy as np\n",
    "import matplotlib.pyplot as plt\n",
    "\n",
    "from PIL import Image\n",
    "from wordcloud import WordCloud\n",
    "from scrape_data import *"
   ]
  },
  {
   "cell_type": "markdown",
   "metadata": {},
   "source": [
    "## Methodology\n",
    "\n",
    "### Data Collection\n",
    "The data that was collected in order to determine \"gamer\" and \"normal\" usage of language on the internet was pulled from Reddit. Reddit was chosen because it is a platform that is used by a significant amount of people on the internet accross hundreds of sub-communities. \n",
    "\n",
    "1-Where did you get your data from?\n",
    "2-How did you get this data (i.e., did you programmatically download it or did you access it through an API)?\n",
    "3-How did you store and/or process this data (e.g., did you store and process it in Pandas)?\n",
    "4-What information did you get from this data that you used in the presentation of your results?"
   ]
  },
  {
   "cell_type": "markdown",
   "metadata": {},
   "source": [
    "## Results\n",
    "\n",
    "### Visualization\n",
    "\n",
    "### Analysis"
   ]
  },
  {
   "cell_type": "markdown",
   "metadata": {},
   "source": [
    "## Conclusion"
   ]
  }
 ],
 "metadata": {
  "interpreter": {
   "hash": "4d59e5a3676c8f6014a0bf8a6d620411eb6abbd5536b79329eb052434920fc55"
  },
  "kernelspec": {
   "display_name": "Python 3.9.7 ('base')",
   "language": "python",
   "name": "python3"
  },
  "language_info": {
   "codemirror_mode": {
    "name": "ipython",
    "version": 3
   },
   "file_extension": ".py",
   "mimetype": "text/x-python",
   "name": "python",
   "nbconvert_exporter": "python",
   "pygments_lexer": "ipython3",
   "version": "3.9.7"
  },
  "orig_nbformat": 4
 },
 "nbformat": 4,
 "nbformat_minor": 2
}
